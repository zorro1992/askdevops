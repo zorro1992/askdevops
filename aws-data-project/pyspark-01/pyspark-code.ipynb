{
 "cells": [
  {
   "cell_type": "code",
   "execution_count": 1,
   "id": "d782b2e7-5d70-490b-ae0b-75fa0731ed16",
   "metadata": {},
   "outputs": [],
   "source": [
    "import pyspark"
   ]
  },
  {
   "cell_type": "code",
   "execution_count": 2,
   "id": "e14b01cb-f50f-4b29-9301-df2a0d023e3a",
   "metadata": {},
   "outputs": [],
   "source": [
    "from pyspark.sql import SparkSession"
   ]
  },
  {
   "cell_type": "code",
   "execution_count": 3,
   "id": "15443360-ddca-4397-bc32-fed746f552fb",
   "metadata": {},
   "outputs": [],
   "source": [
    "spark=SparkSession.builder.appName('01').getOrCreate()"
   ]
  },
  {
   "cell_type": "code",
   "execution_count": 4,
   "id": "b4549671-f13c-43eb-b87e-a54479ce7f0b",
   "metadata": {},
   "outputs": [
    {
     "data": {
      "text/html": [
       "\n",
       "            <div>\n",
       "                <p><b>SparkSession - in-memory</b></p>\n",
       "                \n",
       "        <div>\n",
       "            <p><b>SparkContext</b></p>\n",
       "\n",
       "            <p><a href=\"http://341c1c983abd:4040\">Spark UI</a></p>\n",
       "\n",
       "            <dl>\n",
       "              <dt>Version</dt>\n",
       "                <dd><code>v3.2.0</code></dd>\n",
       "              <dt>Master</dt>\n",
       "                <dd><code>local[*]</code></dd>\n",
       "              <dt>AppName</dt>\n",
       "                <dd><code>01</code></dd>\n",
       "            </dl>\n",
       "        </div>\n",
       "        \n",
       "            </div>\n",
       "        "
      ],
      "text/plain": [
       "<pyspark.sql.session.SparkSession at 0x7ffb14301c10>"
      ]
     },
     "execution_count": 4,
     "metadata": {},
     "output_type": "execute_result"
    }
   ],
   "source": [
    "spark"
   ]
  },
  {
   "cell_type": "code",
   "execution_count": 11,
   "id": "15d1dbe8-b10a-4451-9192-618711ca999a",
   "metadata": {},
   "outputs": [],
   "source": [
    "df=spark.read.csv(\"data_2.csv\")"
   ]
  },
  {
   "cell_type": "code",
   "execution_count": 12,
   "id": "8feda31a-42bf-4b82-a79c-529490cbaf74",
   "metadata": {},
   "outputs": [
    {
     "name": "stdout",
     "output_type": "stream",
     "text": [
      "root\n",
      " |-- _c0: string (nullable = true)\n",
      " |-- _c1: string (nullable = true)\n",
      " |-- _c2: string (nullable = true)\n",
      " |-- _c3: string (nullable = true)\n",
      " |-- _c4: string (nullable = true)\n",
      " |-- _c5: string (nullable = true)\n",
      " |-- _c6: string (nullable = true)\n",
      "\n"
     ]
    }
   ],
   "source": [
    "df.printSchema()"
   ]
  },
  {
   "cell_type": "code",
   "execution_count": 13,
   "id": "712fa4b5-efd3-45df-9375-1c7dea370038",
   "metadata": {},
   "outputs": [
    {
     "name": "stdout",
     "output_type": "stream",
     "text": [
      "+---+----------+----------+--------------------+-----------+---------------+--------------+\n",
      "|_c0|       _c1|       _c2|                 _c3|        _c4|            _c5|           _c6|\n",
      "+---+----------+----------+--------------------+-----------+---------------+--------------+\n",
      "| id|first_name| last_name|               email|     gender|     ip_address|       country|\n",
      "|  1|     Rodie|    Hannam|   rhannam0@1und1.de|       null|           null|   New Zealand|\n",
      "|  2|     Berti|  Gentreau|bgentreau1@dedecm...|       null| 242.147.229.20|      Portugal|\n",
      "|  3|    Corbin|   Manford|                null|       null|           null|        Poland|\n",
      "|  4|  Juliette|    Fripps|                null|       null|246.169.138.151|Czech Republic|\n",
      "|  5|  Melloney|  Tasseler|                null|       null|  145.215.70.69|        Brazil|\n",
      "|  6|   Shannon| d' Elboux|sdelboux5@blogtal...|       null|  209.48.24.217|          Chad|\n",
      "|  7|  L;urette|     Dahle|                null|       null|           null|         China|\n",
      "|  8|  Brewster|      Doey|                null|       null|           null|         China|\n",
      "|  9|   Madalyn|   Harding|                null|       null|           null|       Tunisia|\n",
      "| 10|  Eleanore|Stonebanks|                null|       null|           null|        Brazil|\n",
      "| 11|  Guillema| Antonchik|gantonchika@brave...|       null| 21.110.111.246|  South Africa|\n",
      "| 12|     Laird|  Thackham|lthackhamb@weibo.com|       null|           null|      Thailand|\n",
      "| 13|   Lauritz| Antonikov|                null|       null|           null|     Indonesia|\n",
      "| 14|    Leslie|   Perrygo|                null|       Male|           null|         China|\n",
      "| 15|     Dione|   Cacacie|                null|       null| 83.193.206.160|      Slovenia|\n",
      "| 16|   Tymothy|   Seville| tsevillef@wikia.com|Genderqueer|           null|      Thailand|\n",
      "| 17|  Gertrude|Feldberger|gfeldbergerg@zimb...|       null|           null|      Colombia|\n",
      "| 18|   Giorgia|    Bridat| gbridath@discuz.net|       null|           null|        Poland|\n",
      "| 19|    Gunter|   Curphey| gcurpheyi@alexa.com|       null|           null|         Chile|\n",
      "+---+----------+----------+--------------------+-----------+---------------+--------------+\n",
      "only showing top 20 rows\n",
      "\n"
     ]
    }
   ],
   "source": [
    "df.show()"
   ]
  },
  {
   "cell_type": "code",
   "execution_count": 14,
   "id": "8c4ce5ac-f34d-48ea-94ef-97b01a9a3c14",
   "metadata": {},
   "outputs": [],
   "source": [
    "df=spark.read.csv('data_2.csv',header=True,inferSchema=True)"
   ]
  },
  {
   "cell_type": "code",
   "execution_count": 16,
   "id": "7f8d754c-4e05-4f17-9f68-d4841ddcb977",
   "metadata": {},
   "outputs": [
    {
     "name": "stdout",
     "output_type": "stream",
     "text": [
      "+---+----------+----------+--------------------+-----------+---------------+--------------+\n",
      "| id|first_name| last_name|               email|     gender|     ip_address|       country|\n",
      "+---+----------+----------+--------------------+-----------+---------------+--------------+\n",
      "|  1|     Rodie|    Hannam|   rhannam0@1und1.de|       null|           null|   New Zealand|\n",
      "|  2|     Berti|  Gentreau|bgentreau1@dedecm...|       null| 242.147.229.20|      Portugal|\n",
      "|  3|    Corbin|   Manford|                null|       null|           null|        Poland|\n",
      "|  4|  Juliette|    Fripps|                null|       null|246.169.138.151|Czech Republic|\n",
      "|  5|  Melloney|  Tasseler|                null|       null|  145.215.70.69|        Brazil|\n",
      "|  6|   Shannon| d' Elboux|sdelboux5@blogtal...|       null|  209.48.24.217|          Chad|\n",
      "|  7|  L;urette|     Dahle|                null|       null|           null|         China|\n",
      "|  8|  Brewster|      Doey|                null|       null|           null|         China|\n",
      "|  9|   Madalyn|   Harding|                null|       null|           null|       Tunisia|\n",
      "| 10|  Eleanore|Stonebanks|                null|       null|           null|        Brazil|\n",
      "| 11|  Guillema| Antonchik|gantonchika@brave...|       null| 21.110.111.246|  South Africa|\n",
      "| 12|     Laird|  Thackham|lthackhamb@weibo.com|       null|           null|      Thailand|\n",
      "| 13|   Lauritz| Antonikov|                null|       null|           null|     Indonesia|\n",
      "| 14|    Leslie|   Perrygo|                null|       Male|           null|         China|\n",
      "| 15|     Dione|   Cacacie|                null|       null| 83.193.206.160|      Slovenia|\n",
      "| 16|   Tymothy|   Seville| tsevillef@wikia.com|Genderqueer|           null|      Thailand|\n",
      "| 17|  Gertrude|Feldberger|gfeldbergerg@zimb...|       null|           null|      Colombia|\n",
      "| 18|   Giorgia|    Bridat| gbridath@discuz.net|       null|           null|        Poland|\n",
      "| 19|    Gunter|   Curphey| gcurpheyi@alexa.com|       null|           null|         Chile|\n",
      "| 20|  Kimberli|     Mebes|  kmebesj@discuz.net|       null| 104.251.52.175|        Poland|\n",
      "+---+----------+----------+--------------------+-----------+---------------+--------------+\n",
      "\n"
     ]
    }
   ],
   "source": [
    "df.show()"
   ]
  },
  {
   "cell_type": "code",
   "execution_count": 17,
   "id": "3f1607c5-feb8-4359-93bf-b49006830905",
   "metadata": {},
   "outputs": [
    {
     "name": "stdout",
     "output_type": "stream",
     "text": [
      "root\n",
      " |-- id: integer (nullable = true)\n",
      " |-- first_name: string (nullable = true)\n",
      " |-- last_name: string (nullable = true)\n",
      " |-- email: string (nullable = true)\n",
      " |-- gender: string (nullable = true)\n",
      " |-- ip_address: string (nullable = true)\n",
      " |-- country: string (nullable = true)\n",
      "\n"
     ]
    }
   ],
   "source": [
    "df.printSchema()"
   ]
  },
  {
   "cell_type": "code",
   "execution_count": 18,
   "id": "3c0c8c12-1d4e-422b-be99-194648fc5bc4",
   "metadata": {},
   "outputs": [
    {
     "data": {
      "text/plain": [
       "pyspark.sql.dataframe.DataFrame"
      ]
     },
     "execution_count": 18,
     "metadata": {},
     "output_type": "execute_result"
    }
   ],
   "source": [
    "type(df)"
   ]
  },
  {
   "cell_type": "code",
   "execution_count": 19,
   "id": "7488daf0-896a-4b63-ba24-73a070971254",
   "metadata": {},
   "outputs": [
    {
     "data": {
      "text/plain": [
       "[Row(id=1, first_name='Rodie', last_name='Hannam', email='rhannam0@1und1.de', gender=None, ip_address=None, country='New Zealand'),\n",
       " Row(id=2, first_name='Berti', last_name='Gentreau', email='bgentreau1@dedecms.com', gender=None, ip_address='242.147.229.20', country='Portugal'),\n",
       " Row(id=3, first_name='Corbin', last_name='Manford', email=None, gender=None, ip_address=None, country='Poland')]"
      ]
     },
     "execution_count": 19,
     "metadata": {},
     "output_type": "execute_result"
    }
   ],
   "source": [
    "df.head(3)"
   ]
  },
  {
   "cell_type": "code",
   "execution_count": 21,
   "id": "8a655d38-42a8-4f52-b29c-20691c7fe78a",
   "metadata": {},
   "outputs": [
    {
     "name": "stdout",
     "output_type": "stream",
     "text": [
      "+---+----------+----------+--------------------+-----------+---------------+--------------+\n",
      "| id|first_name| last_name|               email|     gender|     ip_address|       country|\n",
      "+---+----------+----------+--------------------+-----------+---------------+--------------+\n",
      "|  1|     Rodie|    Hannam|   rhannam0@1und1.de|       null|           null|   New Zealand|\n",
      "|  2|     Berti|  Gentreau|bgentreau1@dedecm...|       null| 242.147.229.20|      Portugal|\n",
      "|  3|    Corbin|   Manford|                null|       null|           null|        Poland|\n",
      "|  4|  Juliette|    Fripps|                null|       null|246.169.138.151|Czech Republic|\n",
      "|  5|  Melloney|  Tasseler|                null|       null|  145.215.70.69|        Brazil|\n",
      "|  6|   Shannon| d' Elboux|sdelboux5@blogtal...|       null|  209.48.24.217|          Chad|\n",
      "|  7|  L;urette|     Dahle|                null|       null|           null|         China|\n",
      "|  8|  Brewster|      Doey|                null|       null|           null|         China|\n",
      "|  9|   Madalyn|   Harding|                null|       null|           null|       Tunisia|\n",
      "| 10|  Eleanore|Stonebanks|                null|       null|           null|        Brazil|\n",
      "| 11|  Guillema| Antonchik|gantonchika@brave...|       null| 21.110.111.246|  South Africa|\n",
      "| 12|     Laird|  Thackham|lthackhamb@weibo.com|       null|           null|      Thailand|\n",
      "| 13|   Lauritz| Antonikov|                null|       null|           null|     Indonesia|\n",
      "| 14|    Leslie|   Perrygo|                null|       Male|           null|         China|\n",
      "| 15|     Dione|   Cacacie|                null|       null| 83.193.206.160|      Slovenia|\n",
      "| 16|   Tymothy|   Seville| tsevillef@wikia.com|Genderqueer|           null|      Thailand|\n",
      "| 17|  Gertrude|Feldberger|gfeldbergerg@zimb...|       null|           null|      Colombia|\n",
      "| 18|   Giorgia|    Bridat| gbridath@discuz.net|       null|           null|        Poland|\n",
      "| 19|    Gunter|   Curphey| gcurpheyi@alexa.com|       null|           null|         Chile|\n",
      "| 20|  Kimberli|     Mebes|  kmebesj@discuz.net|       null| 104.251.52.175|        Poland|\n",
      "+---+----------+----------+--------------------+-----------+---------------+--------------+\n",
      "\n"
     ]
    }
   ],
   "source": [
    "df.show()"
   ]
  },
  {
   "cell_type": "code",
   "execution_count": null,
   "id": "35acac77-5a72-4966-9d14-b6951184b9d5",
   "metadata": {},
   "outputs": [],
   "source": []
  }
 ],
 "metadata": {
  "kernelspec": {
   "display_name": "Python 3 (ipykernel)",
   "language": "python",
   "name": "python3"
  },
  "language_info": {
   "codemirror_mode": {
    "name": "ipython",
    "version": 3
   },
   "file_extension": ".py",
   "mimetype": "text/x-python",
   "name": "python",
   "nbconvert_exporter": "python",
   "pygments_lexer": "ipython3",
   "version": "3.9.7"
  }
 },
 "nbformat": 4,
 "nbformat_minor": 5
}
